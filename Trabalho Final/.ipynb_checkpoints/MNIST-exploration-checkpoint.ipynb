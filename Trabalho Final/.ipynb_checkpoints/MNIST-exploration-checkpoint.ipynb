{
 "cells": [
  {
   "cell_type": "code",
   "execution_count": 38,
   "metadata": {
    "collapsed": true
   },
   "outputs": [],
   "source": [
    "import pandas as pd\n",
    "import numpy as np\n",
    "from sklearn.ensemble import RandomForestClassifier"
   ]
  },
  {
   "cell_type": "code",
   "execution_count": 139,
   "metadata": {
    "collapsed": false
   },
   "outputs": [],
   "source": [
    "mnist_train = pd.read_csv('train.csv')\n",
    "target = mnist_train[[0]].values.ravel()\n",
    "train_data = mnist_train.iloc[:,1:].values\n",
    "test = pd.read_csv(\"test.csv\").values"
   ]
  },
  {
   "cell_type": "code",
   "execution_count": 3,
   "metadata": {
    "collapsed": false
   },
   "outputs": [
    {
     "data": {
      "text/html": [
       "<div>\n",
       "<table border=\"1\" class=\"dataframe\">\n",
       "  <thead>\n",
       "    <tr style=\"text-align: right;\">\n",
       "      <th></th>\n",
       "      <th>label</th>\n",
       "      <th>pixel0</th>\n",
       "      <th>pixel1</th>\n",
       "      <th>pixel2</th>\n",
       "      <th>pixel3</th>\n",
       "      <th>pixel4</th>\n",
       "      <th>pixel5</th>\n",
       "      <th>pixel6</th>\n",
       "      <th>pixel7</th>\n",
       "      <th>pixel8</th>\n",
       "      <th>...</th>\n",
       "      <th>pixel774</th>\n",
       "      <th>pixel775</th>\n",
       "      <th>pixel776</th>\n",
       "      <th>pixel777</th>\n",
       "      <th>pixel778</th>\n",
       "      <th>pixel779</th>\n",
       "      <th>pixel780</th>\n",
       "      <th>pixel781</th>\n",
       "      <th>pixel782</th>\n",
       "      <th>pixel783</th>\n",
       "    </tr>\n",
       "  </thead>\n",
       "  <tbody>\n",
       "    <tr>\n",
       "      <th>0</th>\n",
       "      <td>1</td>\n",
       "      <td>0</td>\n",
       "      <td>0</td>\n",
       "      <td>0</td>\n",
       "      <td>0</td>\n",
       "      <td>0</td>\n",
       "      <td>0</td>\n",
       "      <td>0</td>\n",
       "      <td>0</td>\n",
       "      <td>0</td>\n",
       "      <td>...</td>\n",
       "      <td>0</td>\n",
       "      <td>0</td>\n",
       "      <td>0</td>\n",
       "      <td>0</td>\n",
       "      <td>0</td>\n",
       "      <td>0</td>\n",
       "      <td>0</td>\n",
       "      <td>0</td>\n",
       "      <td>0</td>\n",
       "      <td>0</td>\n",
       "    </tr>\n",
       "    <tr>\n",
       "      <th>1</th>\n",
       "      <td>0</td>\n",
       "      <td>0</td>\n",
       "      <td>0</td>\n",
       "      <td>0</td>\n",
       "      <td>0</td>\n",
       "      <td>0</td>\n",
       "      <td>0</td>\n",
       "      <td>0</td>\n",
       "      <td>0</td>\n",
       "      <td>0</td>\n",
       "      <td>...</td>\n",
       "      <td>0</td>\n",
       "      <td>0</td>\n",
       "      <td>0</td>\n",
       "      <td>0</td>\n",
       "      <td>0</td>\n",
       "      <td>0</td>\n",
       "      <td>0</td>\n",
       "      <td>0</td>\n",
       "      <td>0</td>\n",
       "      <td>0</td>\n",
       "    </tr>\n",
       "    <tr>\n",
       "      <th>2</th>\n",
       "      <td>1</td>\n",
       "      <td>0</td>\n",
       "      <td>0</td>\n",
       "      <td>0</td>\n",
       "      <td>0</td>\n",
       "      <td>0</td>\n",
       "      <td>0</td>\n",
       "      <td>0</td>\n",
       "      <td>0</td>\n",
       "      <td>0</td>\n",
       "      <td>...</td>\n",
       "      <td>0</td>\n",
       "      <td>0</td>\n",
       "      <td>0</td>\n",
       "      <td>0</td>\n",
       "      <td>0</td>\n",
       "      <td>0</td>\n",
       "      <td>0</td>\n",
       "      <td>0</td>\n",
       "      <td>0</td>\n",
       "      <td>0</td>\n",
       "    </tr>\n",
       "    <tr>\n",
       "      <th>3</th>\n",
       "      <td>4</td>\n",
       "      <td>0</td>\n",
       "      <td>0</td>\n",
       "      <td>0</td>\n",
       "      <td>0</td>\n",
       "      <td>0</td>\n",
       "      <td>0</td>\n",
       "      <td>0</td>\n",
       "      <td>0</td>\n",
       "      <td>0</td>\n",
       "      <td>...</td>\n",
       "      <td>0</td>\n",
       "      <td>0</td>\n",
       "      <td>0</td>\n",
       "      <td>0</td>\n",
       "      <td>0</td>\n",
       "      <td>0</td>\n",
       "      <td>0</td>\n",
       "      <td>0</td>\n",
       "      <td>0</td>\n",
       "      <td>0</td>\n",
       "    </tr>\n",
       "    <tr>\n",
       "      <th>4</th>\n",
       "      <td>0</td>\n",
       "      <td>0</td>\n",
       "      <td>0</td>\n",
       "      <td>0</td>\n",
       "      <td>0</td>\n",
       "      <td>0</td>\n",
       "      <td>0</td>\n",
       "      <td>0</td>\n",
       "      <td>0</td>\n",
       "      <td>0</td>\n",
       "      <td>...</td>\n",
       "      <td>0</td>\n",
       "      <td>0</td>\n",
       "      <td>0</td>\n",
       "      <td>0</td>\n",
       "      <td>0</td>\n",
       "      <td>0</td>\n",
       "      <td>0</td>\n",
       "      <td>0</td>\n",
       "      <td>0</td>\n",
       "      <td>0</td>\n",
       "    </tr>\n",
       "  </tbody>\n",
       "</table>\n",
       "<p>5 rows × 785 columns</p>\n",
       "</div>"
      ],
      "text/plain": [
       "   label  pixel0  pixel1  pixel2  pixel3  pixel4  pixel5  pixel6  pixel7  \\\n",
       "0      1       0       0       0       0       0       0       0       0   \n",
       "1      0       0       0       0       0       0       0       0       0   \n",
       "2      1       0       0       0       0       0       0       0       0   \n",
       "3      4       0       0       0       0       0       0       0       0   \n",
       "4      0       0       0       0       0       0       0       0       0   \n",
       "\n",
       "   pixel8    ...     pixel774  pixel775  pixel776  pixel777  pixel778  \\\n",
       "0       0    ...            0         0         0         0         0   \n",
       "1       0    ...            0         0         0         0         0   \n",
       "2       0    ...            0         0         0         0         0   \n",
       "3       0    ...            0         0         0         0         0   \n",
       "4       0    ...            0         0         0         0         0   \n",
       "\n",
       "   pixel779  pixel780  pixel781  pixel782  pixel783  \n",
       "0         0         0         0         0         0  \n",
       "1         0         0         0         0         0  \n",
       "2         0         0         0         0         0  \n",
       "3         0         0         0         0         0  \n",
       "4         0         0         0         0         0  \n",
       "\n",
       "[5 rows x 785 columns]"
      ]
     },
     "execution_count": 3,
     "metadata": {},
     "output_type": "execute_result"
    }
   ],
   "source": [
    "mnist_train.head()"
   ]
  },
  {
   "cell_type": "markdown",
   "metadata": {},
   "source": [
    "### Classificação com RandomForestClassifier"
   ]
  },
  {
   "cell_type": "code",
   "execution_count": 4,
   "metadata": {
    "collapsed": false
   },
   "outputs": [],
   "source": [
    "rf = RandomForestClassifier(n_estimators=100, n_jobs=4)\n",
    "rf.fit(train_data, target)\n",
    "pred = rf.predict(test)"
   ]
  },
  {
   "cell_type": "code",
   "execution_count": 5,
   "metadata": {
    "collapsed": false
   },
   "outputs": [
    {
     "data": {
      "text/plain": [
       "array([2, 0, 9, ..., 3, 9, 2])"
      ]
     },
     "execution_count": 5,
     "metadata": {},
     "output_type": "execute_result"
    }
   ],
   "source": [
    "pred"
   ]
  },
  {
   "cell_type": "code",
   "execution_count": 6,
   "metadata": {
    "collapsed": false
   },
   "outputs": [],
   "source": [
    "np.savetxt('submission_rand_forest.csv', np.c_[range(1, len(test)+1), pred], delimiter=',', header='ImageId,Label', comments='', fmt=\"%d\")"
   ]
  },
  {
   "cell_type": "markdown",
   "metadata": {},
   "source": [
    "## Data Preprocessing"
   ]
  },
  {
   "cell_type": "code",
   "execution_count": 6,
   "metadata": {
    "collapsed": false
   },
   "outputs": [
    {
     "data": {
      "text/html": [
       "<div>\n",
       "<table border=\"1\" class=\"dataframe\">\n",
       "  <thead>\n",
       "    <tr style=\"text-align: right;\">\n",
       "      <th></th>\n",
       "      <th>pixel0</th>\n",
       "      <th>pixel1</th>\n",
       "      <th>pixel2</th>\n",
       "      <th>pixel3</th>\n",
       "      <th>pixel4</th>\n",
       "      <th>pixel5</th>\n",
       "      <th>pixel6</th>\n",
       "      <th>pixel7</th>\n",
       "      <th>pixel8</th>\n",
       "      <th>pixel9</th>\n",
       "      <th>...</th>\n",
       "      <th>pixel774</th>\n",
       "      <th>pixel775</th>\n",
       "      <th>pixel776</th>\n",
       "      <th>pixel777</th>\n",
       "      <th>pixel778</th>\n",
       "      <th>pixel779</th>\n",
       "      <th>pixel780</th>\n",
       "      <th>pixel781</th>\n",
       "      <th>pixel782</th>\n",
       "      <th>pixel783</th>\n",
       "    </tr>\n",
       "  </thead>\n",
       "  <tbody>\n",
       "    <tr>\n",
       "      <th>0</th>\n",
       "      <td>0</td>\n",
       "      <td>0</td>\n",
       "      <td>0</td>\n",
       "      <td>0</td>\n",
       "      <td>0</td>\n",
       "      <td>0</td>\n",
       "      <td>0</td>\n",
       "      <td>0</td>\n",
       "      <td>0</td>\n",
       "      <td>0</td>\n",
       "      <td>...</td>\n",
       "      <td>0</td>\n",
       "      <td>0</td>\n",
       "      <td>0</td>\n",
       "      <td>0</td>\n",
       "      <td>0</td>\n",
       "      <td>0</td>\n",
       "      <td>0</td>\n",
       "      <td>0</td>\n",
       "      <td>0</td>\n",
       "      <td>0</td>\n",
       "    </tr>\n",
       "    <tr>\n",
       "      <th>1</th>\n",
       "      <td>0</td>\n",
       "      <td>0</td>\n",
       "      <td>0</td>\n",
       "      <td>0</td>\n",
       "      <td>0</td>\n",
       "      <td>0</td>\n",
       "      <td>0</td>\n",
       "      <td>0</td>\n",
       "      <td>0</td>\n",
       "      <td>0</td>\n",
       "      <td>...</td>\n",
       "      <td>0</td>\n",
       "      <td>0</td>\n",
       "      <td>0</td>\n",
       "      <td>0</td>\n",
       "      <td>0</td>\n",
       "      <td>0</td>\n",
       "      <td>0</td>\n",
       "      <td>0</td>\n",
       "      <td>0</td>\n",
       "      <td>0</td>\n",
       "    </tr>\n",
       "    <tr>\n",
       "      <th>2</th>\n",
       "      <td>0</td>\n",
       "      <td>0</td>\n",
       "      <td>0</td>\n",
       "      <td>0</td>\n",
       "      <td>0</td>\n",
       "      <td>0</td>\n",
       "      <td>0</td>\n",
       "      <td>0</td>\n",
       "      <td>0</td>\n",
       "      <td>0</td>\n",
       "      <td>...</td>\n",
       "      <td>0</td>\n",
       "      <td>0</td>\n",
       "      <td>0</td>\n",
       "      <td>0</td>\n",
       "      <td>0</td>\n",
       "      <td>0</td>\n",
       "      <td>0</td>\n",
       "      <td>0</td>\n",
       "      <td>0</td>\n",
       "      <td>0</td>\n",
       "    </tr>\n",
       "    <tr>\n",
       "      <th>3</th>\n",
       "      <td>0</td>\n",
       "      <td>0</td>\n",
       "      <td>0</td>\n",
       "      <td>0</td>\n",
       "      <td>0</td>\n",
       "      <td>0</td>\n",
       "      <td>0</td>\n",
       "      <td>0</td>\n",
       "      <td>0</td>\n",
       "      <td>0</td>\n",
       "      <td>...</td>\n",
       "      <td>0</td>\n",
       "      <td>0</td>\n",
       "      <td>0</td>\n",
       "      <td>0</td>\n",
       "      <td>0</td>\n",
       "      <td>0</td>\n",
       "      <td>0</td>\n",
       "      <td>0</td>\n",
       "      <td>0</td>\n",
       "      <td>0</td>\n",
       "    </tr>\n",
       "    <tr>\n",
       "      <th>4</th>\n",
       "      <td>0</td>\n",
       "      <td>0</td>\n",
       "      <td>0</td>\n",
       "      <td>0</td>\n",
       "      <td>0</td>\n",
       "      <td>0</td>\n",
       "      <td>0</td>\n",
       "      <td>0</td>\n",
       "      <td>0</td>\n",
       "      <td>0</td>\n",
       "      <td>...</td>\n",
       "      <td>0</td>\n",
       "      <td>0</td>\n",
       "      <td>0</td>\n",
       "      <td>0</td>\n",
       "      <td>0</td>\n",
       "      <td>0</td>\n",
       "      <td>0</td>\n",
       "      <td>0</td>\n",
       "      <td>0</td>\n",
       "      <td>0</td>\n",
       "    </tr>\n",
       "  </tbody>\n",
       "</table>\n",
       "<p>5 rows × 784 columns</p>\n",
       "</div>"
      ],
      "text/plain": [
       "   pixel0  pixel1  pixel2  pixel3  pixel4  pixel5  pixel6  pixel7  pixel8  \\\n",
       "0       0       0       0       0       0       0       0       0       0   \n",
       "1       0       0       0       0       0       0       0       0       0   \n",
       "2       0       0       0       0       0       0       0       0       0   \n",
       "3       0       0       0       0       0       0       0       0       0   \n",
       "4       0       0       0       0       0       0       0       0       0   \n",
       "\n",
       "   pixel9    ...     pixel774  pixel775  pixel776  pixel777  pixel778  \\\n",
       "0       0    ...            0         0         0         0         0   \n",
       "1       0    ...            0         0         0         0         0   \n",
       "2       0    ...            0         0         0         0         0   \n",
       "3       0    ...            0         0         0         0         0   \n",
       "4       0    ...            0         0         0         0         0   \n",
       "\n",
       "   pixel779  pixel780  pixel781  pixel782  pixel783  \n",
       "0         0         0         0         0         0  \n",
       "1         0         0         0         0         0  \n",
       "2         0         0         0         0         0  \n",
       "3         0         0         0         0         0  \n",
       "4         0         0         0         0         0  \n",
       "\n",
       "[5 rows x 784 columns]"
      ]
     },
     "execution_count": 6,
     "metadata": {},
     "output_type": "execute_result"
    }
   ],
   "source": [
    "mnist_train.iloc[:,1:].head()"
   ]
  },
  {
   "cell_type": "code",
   "execution_count": 141,
   "metadata": {
    "collapsed": false
   },
   "outputs": [],
   "source": [
    "target = target.astype(np.uint8)\n",
    "train_data = np.array(train_data).reshape((-1,1,28,28)).astype(np.uint8)\n",
    "test_data = np.array(test).reshape((-1,1,28,28)).astype(np.uint8)"
   ]
  },
  {
   "cell_type": "code",
   "execution_count": 8,
   "metadata": {
    "collapsed": true
   },
   "outputs": [],
   "source": [
    "import matplotlib.pyplot as plt\n",
    "import matplotlib.cm as cm\n",
    "\n",
    "%matplotlib inline"
   ]
  },
  {
   "cell_type": "code",
   "execution_count": 9,
   "metadata": {
    "collapsed": false
   },
   "outputs": [
    {
     "data": {
      "text/plain": [
       "<matplotlib.image.AxesImage at 0x7f9f61fbab50>"
      ]
     },
     "execution_count": 9,
     "metadata": {},
     "output_type": "execute_result"
    },
    {
     "data": {
      "image/png": "[encoded data removed]",
      "text/plain": [
       "<matplotlib.figure.Figure at 0x7f9f634aed90>"
      ]
     },
     "metadata": {},
     "output_type": "display_data"
    }
   ],
   "source": [
    "plt.imshow(train_data[1727][0], cmap = cm.binary)"
   ]
  },
  {
   "cell_type": "markdown",
   "metadata": {},
   "source": [
    "### Neural Networks"
   ]
  },
  {
   "cell_type": "code",
   "execution_count": 11,
   "metadata": {
    "collapsed": false
   },
   "outputs": [],
   "source": [
    "import lasagne\n",
    "from lasagne import layers\n",
    "from lasagne.updates import nesterov_momentum\n",
    "from nolearn.lasagne import NeuralNet\n",
    "from nolearn.lasagne import visualize"
   ]
  },
  {
   "cell_type": "code",
   "execution_count": 11,
   "metadata": {
    "collapsed": true
   },
   "outputs": [],
   "source": [
    "net1 = NeuralNet(\n",
    "        layers=[('input', layers.InputLayer),\n",
    "               ('hidden', layers.DenseLayer),\n",
    "               ('output', layers.DenseLayer),\n",
    "               ],\n",
    "\n",
    "        input_shape=(None, 1, 28, 28),\n",
    "        hidden_num_units = 1000,\n",
    "        output_nonlinearity = lasagne.nonlinearities.softmax,\n",
    "        output_num_units=10,\n",
    "    \n",
    "        update = nesterov_momentum,\n",
    "        update_learning_rate = 0.0001,\n",
    "        update_momentum=0.9,\n",
    "    \n",
    "        max_epochs = 20,\n",
    "        verbose=1,\n",
    ")"
   ]
  },
  {
   "cell_type": "code",
   "execution_count": 12,
   "metadata": {
    "collapsed": false
   },
   "outputs": [
    {
     "name": "stdout",
     "output_type": "stream",
     "text": [
      "# Neural Network with 795010 learnable parameters\n",
      "\n",
      "## Layer information\n",
      "\n",
      "  #  name    size\n",
      "---  ------  -------\n",
      "  0  input   1x28x28\n",
      "  1  hidden  1000\n",
      "  2  output  10\n",
      "\n",
      "  epoch    train loss    valid loss    train/val    valid acc  dur\n",
      "-------  ------------  ------------  -----------  -----------  -----\n",
      "      1       \u001b[36m7.33642\u001b[0m       \u001b[32m1.76336\u001b[0m      4.16049      0.92933  5.42s\n",
      "      2       \u001b[36m0.94861\u001b[0m       \u001b[32m1.25185\u001b[0m      0.75777      0.93797  5.05s\n",
      "      3       \u001b[36m0.44068\u001b[0m       \u001b[32m1.09594\u001b[0m      0.40211      0.94199  5.28s\n",
      "      4       \u001b[36m0.21604\u001b[0m       \u001b[32m0.96173\u001b[0m      0.22463      0.94519  5.39s\n",
      "      5       \u001b[36m0.10785\u001b[0m       \u001b[32m0.89268\u001b[0m      0.12081      0.94501  5.42s\n",
      "      6       \u001b[36m0.05614\u001b[0m       \u001b[32m0.88515\u001b[0m      0.06343      0.94507  5.04s\n",
      "      7       \u001b[36m0.02877\u001b[0m       \u001b[32m0.85291\u001b[0m      0.03374      0.94886  5.98s\n",
      "      8       \u001b[36m0.01713\u001b[0m       0.86038      0.01991      0.94774  5.62s\n",
      "      9       \u001b[36m0.00916\u001b[0m       \u001b[32m0.84211\u001b[0m      0.01088      0.94998  5.66s\n",
      "     10       \u001b[36m0.00393\u001b[0m       \u001b[32m0.83341\u001b[0m      0.00472      0.94998  5.86s\n",
      "     11       \u001b[36m0.00188\u001b[0m       \u001b[32m0.81382\u001b[0m      0.00231      0.95200  5.96s\n",
      "     12       \u001b[36m0.00053\u001b[0m       0.82252      0.00065      0.95259  5.75s\n",
      "     13       \u001b[36m0.00024\u001b[0m       0.81769      0.00029      0.95176  5.63s\n",
      "     14       \u001b[36m0.00010\u001b[0m       0.81598      0.00013      0.95188  5.65s\n",
      "     15       \u001b[36m0.00005\u001b[0m       0.81523      0.00006      0.95152  6.35s\n",
      "     16       \u001b[36m0.00004\u001b[0m       0.81485      0.00005      0.95141  5.72s\n",
      "     17       \u001b[36m0.00003\u001b[0m       0.81458      0.00004      0.95141  5.70s\n",
      "     18       \u001b[36m0.00003\u001b[0m       0.81437      0.00004      0.95164  5.79s\n",
      "     19       \u001b[36m0.00003\u001b[0m       0.81420      0.00004      0.95164  5.70s\n",
      "     20       \u001b[36m0.00003\u001b[0m       0.81405      0.00003      0.95152  5.56s\n"
     ]
    },
    {
     "data": {
      "text/plain": [
       "NeuralNet(X_tensor_type=None,\n",
       "     batch_iterator_test=<nolearn.lasagne.base.BatchIterator object at 0x7f9f67b91090>,\n",
       "     batch_iterator_train=<nolearn.lasagne.base.BatchIterator object at 0x7f9f67b7cfd0>,\n",
       "     custom_score=None, hidden_num_units=1000,\n",
       "     input_shape=(None, 1, 28, 28),\n",
       "     layers=[('input', <class 'lasagne.layers.input.InputLayer'>), ('hidden', <class 'lasagne.layers.dense.DenseLayer'>), ('output', <class 'lasagne.layers.dense.DenseLayer'>)],\n",
       "     loss=None, max_epochs=20, more_params={},\n",
       "     objective=<function objective at 0x7f9f67b8cc80>,\n",
       "     objective_loss_function=<function categorical_crossentropy at 0x7f9f692726e0>,\n",
       "     on_batch_finished=[],\n",
       "     on_epoch_finished=[<nolearn.lasagne.handlers.PrintLog instance at 0x7f9f62cfa1b8>],\n",
       "     on_training_finished=[],\n",
       "     on_training_started=[<nolearn.lasagne.handlers.PrintLayerInfo instance at 0x7f9f62cfa200>],\n",
       "     output_nonlinearity=<function softmax at 0x7f9f69358398>,\n",
       "     output_num_units=10, regression=False,\n",
       "     train_split=<nolearn.lasagne.base.TrainSplit object at 0x7f9f67b910d0>,\n",
       "     update=<function nesterov_momentum at 0x7f9f69277230>,\n",
       "     update_learning_rate=0.0001, update_momentum=0.9,\n",
       "     use_label_encoder=False, verbose=1,\n",
       "     y_tensor_type=TensorType(int32, vector))"
      ]
     },
     "execution_count": 12,
     "metadata": {},
     "output_type": "execute_result"
    }
   ],
   "source": [
    "net1.fit(train_data, target)"
   ]
  },
  {
   "cell_type": "code",
   "execution_count": 13,
   "metadata": {
    "collapsed": true
   },
   "outputs": [],
   "source": [
    "pred = net1.predict(test_data)"
   ]
  },
  {
   "cell_type": "code",
   "execution_count": 15,
   "metadata": {
    "collapsed": false
   },
   "outputs": [],
   "source": [
    "np.savetxt('submission_neural_network_one_layer.csv', np.c_[range(1, len(test)+1), pred], delimiter=',', header='ImageId,Label', comments='', fmt=\"%d\")"
   ]
  },
  {
   "cell_type": "markdown",
   "metadata": {},
   "source": [
    "### Convolutional Neural Network\n"
   ]
  },
  {
   "cell_type": "code",
   "execution_count": 140,
   "metadata": {
    "collapsed": false
   },
   "outputs": [],
   "source": [
    "def CNN(n_epochs):\n",
    "    net1 = NeuralNet(\n",
    "        layers = [\n",
    "            ('input', layers.InputLayer),\n",
    "            ('conv1', layers.Conv2DLayer),      \n",
    "            ('pool1', layers.MaxPool2DLayer),   \n",
    "            ('conv2', layers.Conv2DLayer),\n",
    "            ('pool2', layers.MaxPool2DLayer),\n",
    "            ('drop1', layers.DropoutLayer),\n",
    "            ('hidden3', layers.DenseLayer),\n",
    "            ('output', layers.DenseLayer),\n",
    "        ],\n",
    "        \n",
    "    input_shape = (None,1,28,28),\n",
    "    conv1_num_filters=7,\n",
    "    conv1_filter_size=(3, 3), \n",
    "    conv1_nonlinearity=lasagne.nonlinearities.rectify,\n",
    "    \n",
    "    pool1_pool_size=(2, 2),\n",
    "    \n",
    "    conv2_num_filters=12, \n",
    "    conv2_filter_size=(2, 2),    \n",
    "    conv2_nonlinearity=lasagne.nonlinearities.rectify,\n",
    "    \n",
    "    pool2_pool_size=(2, 2),\n",
    "        \n",
    "    drop1_p = 0.2,\n",
    "        \n",
    "    hidden3_num_units=1000,\n",
    "    output_num_units=10, \n",
    "    output_nonlinearity=lasagne.nonlinearities.softmax,\n",
    "\n",
    "    update_learning_rate=0.0001,\n",
    "    update_momentum=0.9,\n",
    "\n",
    "    max_epochs=n_epochs,\n",
    "    verbose=1,\n",
    "    )\n",
    "    return net1\n",
    "# cnn = CNN(30).fit(train_data, target)"
   ]
  },
  {
   "cell_type": "code",
   "execution_count": 21,
   "metadata": {
    "collapsed": true
   },
   "outputs": [],
   "source": [
    "pred = cnn.predict(test_data)"
   ]
  },
  {
   "cell_type": "code",
   "execution_count": 22,
   "metadata": {
    "collapsed": true
   },
   "outputs": [],
   "source": [
    "np.savetxt('submission_conv_nn_1.csv', np.c_[range(1, len(test)+1), pred], delimiter=',', header='ImageId,Label', comments='', fmt=\"%d\")"
   ]
  },
  {
   "cell_type": "code",
   "execution_count": 23,
   "metadata": {
    "collapsed": false,
    "scrolled": true
   },
   "outputs": [
    {
     "name": "stdout",
     "output_type": "stream",
     "text": [
      "# Neural Network with 443428 learnable parameters\n",
      "\n",
      "## Layer information\n",
      "\n",
      "  #  name     size\n",
      "---  -------  --------\n",
      "  0  input    1x28x28\n",
      "  1  conv1    7x26x26\n",
      "  2  pool1    7x13x13\n",
      "  3  conv2    12x12x12\n",
      "  4  pool2    12x6x6\n",
      "  5  drop1    12x6x6\n",
      "  6  hidden3  1000\n",
      "  7  output   10\n",
      "\n",
      "  epoch    train loss    valid loss    train/val    valid acc  dur\n",
      "-------  ------------  ------------  -----------  -----------  ------\n",
      "      1       \u001b[36m2.85202\u001b[0m       \u001b[32m0.62170\u001b[0m      4.58742      0.81698  46.22s\n",
      "      2       \u001b[36m0.67631\u001b[0m       \u001b[32m0.41318\u001b[0m      1.63684      0.87813  45.56s\n",
      "      3       \u001b[36m0.51378\u001b[0m       \u001b[32m0.32813\u001b[0m      1.56575      0.90459  54.53s\n",
      "      4       \u001b[36m0.42953\u001b[0m       \u001b[32m0.27767\u001b[0m      1.54689      0.91494  64.65s\n",
      "      5       \u001b[36m0.36650\u001b[0m       \u001b[32m0.24361\u001b[0m      1.50447      0.92572  50.24s\n",
      "      6       \u001b[36m0.32550\u001b[0m       \u001b[32m0.22047\u001b[0m      1.47639      0.93400  46.34s\n",
      "      7       \u001b[36m0.30201\u001b[0m       \u001b[32m0.20298\u001b[0m      1.48788      0.93838  62.85s\n",
      "      8       \u001b[36m0.27628\u001b[0m       \u001b[32m0.19050\u001b[0m      1.45034      0.94276  62.21s\n",
      "      9       \u001b[36m0.26032\u001b[0m       \u001b[32m0.17897\u001b[0m      1.45455      0.94691  60.37s\n",
      "     10       \u001b[36m0.24785\u001b[0m       \u001b[32m0.17017\u001b[0m      1.45649      0.94916  51.20s\n",
      "     11       \u001b[36m0.23536\u001b[0m       \u001b[32m0.16290\u001b[0m      1.44485      0.95069  43.01s\n",
      "     12       \u001b[36m0.22251\u001b[0m       \u001b[32m0.15542\u001b[0m      1.43163      0.95283  45.85s\n",
      "     13       \u001b[36m0.21647\u001b[0m       \u001b[32m0.15120\u001b[0m      1.43161      0.95401  48.46s\n",
      "     14       \u001b[36m0.20637\u001b[0m       \u001b[32m0.14462\u001b[0m      1.42701      0.95697  47.40s\n",
      "     15       \u001b[36m0.20108\u001b[0m       \u001b[32m0.13926\u001b[0m      1.44393      0.95697  45.89s\n",
      "     16       \u001b[36m0.19376\u001b[0m       \u001b[32m0.13557\u001b[0m      1.42926      0.95768  42.02s\n",
      "     17       \u001b[36m0.18775\u001b[0m       \u001b[32m0.13143\u001b[0m      1.42847      0.95922  47.52s\n",
      "     18       \u001b[36m0.18121\u001b[0m       \u001b[32m0.12822\u001b[0m      1.41333      0.95910  43.51s\n",
      "     19       \u001b[36m0.18066\u001b[0m       \u001b[32m0.12565\u001b[0m      1.43785      0.96016  43.41s\n",
      "     20       \u001b[36m0.17322\u001b[0m       \u001b[32m0.12199\u001b[0m      1.41993      0.96170  41.68s\n",
      "     21       \u001b[36m0.16511\u001b[0m       \u001b[32m0.11799\u001b[0m      1.39936      0.96194  42.83s\n",
      "     22       \u001b[36m0.16274\u001b[0m       \u001b[32m0.11630\u001b[0m      1.39935      0.96253  42.48s\n",
      "     23       \u001b[36m0.16247\u001b[0m       \u001b[32m0.11512\u001b[0m      1.41133      0.96366  42.52s\n",
      "     24       \u001b[36m0.15428\u001b[0m       \u001b[32m0.11150\u001b[0m      1.38370      0.96372  42.66s\n",
      "     25       \u001b[36m0.15195\u001b[0m       \u001b[32m0.10820\u001b[0m      1.40434      0.96520  43.60s\n",
      "     26       \u001b[36m0.15067\u001b[0m       0.10826      1.39165      0.96508  45.25s\n",
      "     27       \u001b[36m0.14567\u001b[0m       \u001b[32m0.10557\u001b[0m      1.37984      0.96673  44.29s\n",
      "     28       0.14681       \u001b[32m0.10210\u001b[0m      1.43793      0.96709  49.48s\n",
      "     29       \u001b[36m0.13930\u001b[0m       \u001b[32m0.10100\u001b[0m      1.37924      0.96733  43.89s\n",
      "     30       0.14000       \u001b[32m0.10033\u001b[0m      1.39536      0.96756  42.20s\n",
      "     31       \u001b[36m0.13741\u001b[0m       \u001b[32m0.09904\u001b[0m      1.38742      0.96804  44.20s\n",
      "     32       \u001b[36m0.13232\u001b[0m       \u001b[32m0.09645\u001b[0m      1.37189      0.96898  44.04s\n",
      "     33       \u001b[36m0.13219\u001b[0m       \u001b[32m0.09563\u001b[0m      1.38221      0.96875  44.37s\n",
      "     34       \u001b[36m0.13139\u001b[0m       \u001b[32m0.09473\u001b[0m      1.38694      0.96875  44.47s\n",
      "     35       \u001b[36m0.12883\u001b[0m       \u001b[32m0.09400\u001b[0m      1.37047      0.96875  44.61s\n",
      "     36       \u001b[36m0.12834\u001b[0m       \u001b[32m0.09170\u001b[0m      1.39964      0.96958  45.82s\n",
      "     37       \u001b[36m0.12256\u001b[0m       \u001b[32m0.09124\u001b[0m      1.34319      0.96958  44.22s\n",
      "     38       \u001b[36m0.12245\u001b[0m       \u001b[32m0.09075\u001b[0m      1.34938      0.97040  42.68s\n",
      "     39       \u001b[36m0.12205\u001b[0m       \u001b[32m0.08925\u001b[0m      1.36751      0.96981  43.93s\n",
      "     40       \u001b[36m0.11804\u001b[0m       \u001b[32m0.08737\u001b[0m      1.35104      0.97017  43.49s\n",
      "     41       0.12028       \u001b[32m0.08701\u001b[0m      1.38229      0.97153  43.38s\n",
      "     42       \u001b[36m0.11616\u001b[0m       \u001b[32m0.08638\u001b[0m      1.34476      0.97070  45.52s\n",
      "     43       \u001b[36m0.11422\u001b[0m       \u001b[32m0.08482\u001b[0m      1.34652      0.97177  45.15s\n",
      "     44       \u001b[36m0.11348\u001b[0m       \u001b[32m0.08377\u001b[0m      1.35465      0.97177  42.75s\n",
      "     45       \u001b[36m0.11246\u001b[0m       \u001b[32m0.08158\u001b[0m      1.37858      0.97271  45.88s\n",
      "     46       \u001b[36m0.11155\u001b[0m       0.08280      1.34717      0.97212  43.29s\n",
      "     47       \u001b[36m0.10864\u001b[0m       \u001b[32m0.08114\u001b[0m      1.33897      0.97236  40.83s\n",
      "     48       \u001b[36m0.10727\u001b[0m       \u001b[32m0.08033\u001b[0m      1.33529      0.97295  50.20s\n",
      "     49       \u001b[36m0.10700\u001b[0m       \u001b[32m0.07833\u001b[0m      1.36602      0.97319  60.15s\n",
      "     50       \u001b[36m0.10469\u001b[0m       0.07882      1.32830      0.97236  61.55s\n",
      "     51       \u001b[36m0.10367\u001b[0m       \u001b[32m0.07811\u001b[0m      1.32731      0.97319  62.69s\n",
      "     52       0.10593       \u001b[32m0.07796\u001b[0m      1.35881      0.97271  49.78s\n",
      "     53       \u001b[36m0.09964\u001b[0m       \u001b[32m0.07664\u001b[0m      1.30009      0.97342  55.77s\n",
      "     54       0.10066       0.07686      1.30966      0.97378  54.42s\n",
      "     55       \u001b[36m0.09519\u001b[0m       \u001b[32m0.07475\u001b[0m      1.27339      0.97455  52.78s\n",
      "     56       0.09668       \u001b[32m0.07459\u001b[0m      1.29620      0.97449  52.40s\n",
      "     57       0.09732       \u001b[32m0.07445\u001b[0m      1.30726      0.97437  55.11s\n",
      "     58       \u001b[36m0.09465\u001b[0m       \u001b[32m0.07428\u001b[0m      1.27416      0.97496  52.99s\n",
      "     59       0.09617       \u001b[32m0.07333\u001b[0m      1.31142      0.97567  54.93s\n",
      "     60       \u001b[36m0.09373\u001b[0m       0.07349      1.27542      0.97425  52.63s\n",
      "     61       \u001b[36m0.09109\u001b[0m       \u001b[32m0.07239\u001b[0m      1.25831      0.97496  53.40s\n",
      "     62       0.09303       \u001b[32m0.07175\u001b[0m      1.29668      0.97579  53.66s\n",
      "     63       0.09113       \u001b[32m0.07149\u001b[0m      1.27477      0.97555  49.87s\n",
      "     64       0.09128       \u001b[32m0.07108\u001b[0m      1.28416      0.97591  54.01s\n",
      "     65       \u001b[36m0.08742\u001b[0m       \u001b[32m0.07075\u001b[0m      1.23565      0.97603  54.01s\n",
      "     66       0.08922       0.07114      1.25426      0.97609  54.07s\n",
      "     67       \u001b[36m0.08571\u001b[0m       \u001b[32m0.07039\u001b[0m      1.21768      0.97668  51.60s\n",
      "     68       0.08619       \u001b[32m0.06918\u001b[0m      1.24591      0.97555  48.99s\n",
      "     69       \u001b[36m0.08484\u001b[0m       0.06938      1.22284      0.97638  55.88s\n",
      "     70       \u001b[36m0.08463\u001b[0m       0.06923      1.22236      0.97662  55.76s\n",
      "     71       \u001b[36m0.08452\u001b[0m       0.06923      1.22094      0.97638  59.03s\n",
      "     72       0.08456       \u001b[32m0.06805\u001b[0m      1.24255      0.97768  45.60s\n",
      "     73       0.08460       \u001b[32m0.06727\u001b[0m      1.25768      0.97662  43.39s\n",
      "     74       \u001b[36m0.08359\u001b[0m       0.06744      1.23960      0.97757  41.60s\n",
      "     75       \u001b[36m0.08128\u001b[0m       \u001b[32m0.06612\u001b[0m      1.22940      0.97733  42.63s\n",
      "     76       0.08155       0.06641      1.22792      0.97780  45.39s\n",
      "     77       0.08282       0.06622      1.25077      0.97768  42.95s\n",
      "     78       \u001b[36m0.08072\u001b[0m       0.06649      1.21386      0.97692  43.92s\n",
      "     79       \u001b[36m0.07859\u001b[0m       \u001b[32m0.06568\u001b[0m      1.19664      0.97846  48.71s\n",
      "     80       \u001b[36m0.07779\u001b[0m       \u001b[32m0.06536\u001b[0m      1.19012      0.97780  45.97s\n",
      "     81       0.07825       \u001b[32m0.06458\u001b[0m      1.21167      0.97780  44.91s\n",
      "     82       \u001b[36m0.07537\u001b[0m       0.06512      1.15735      0.97828  49.96s\n",
      "     83       0.07716       \u001b[32m0.06417\u001b[0m      1.20237      0.97840  46.71s\n",
      "     84       \u001b[36m0.07526\u001b[0m       0.06696      1.12397      0.97757  43.14s\n",
      "     85       0.07617       \u001b[32m0.06264\u001b[0m      1.21613      0.97934  42.19s\n",
      "     86       0.07647       \u001b[32m0.06178\u001b[0m      1.23783      0.97993  44.87s\n",
      "     87       \u001b[36m0.07254\u001b[0m       0.06266      1.15763      0.97958  43.18s\n",
      "     88       0.07422       0.06190      1.19904      0.97899  41.88s\n",
      "     89       \u001b[36m0.07211\u001b[0m       \u001b[32m0.06171\u001b[0m      1.16862      0.97958  43.49s\n",
      "     90       0.07336       0.06268      1.17026      0.97946  44.92s\n",
      "     91       0.07481       0.06295      1.18854      0.97922  48.74s\n",
      "     92       \u001b[36m0.07131\u001b[0m       \u001b[32m0.06120\u001b[0m      1.16512      0.98005  43.68s\n",
      "     93       0.07146       0.06221      1.14855      0.97958  43.98s\n",
      "     94       \u001b[36m0.07093\u001b[0m       0.06275      1.13025      0.97899  46.06s\n",
      "     95       \u001b[36m0.07023\u001b[0m       \u001b[32m0.06026\u001b[0m      1.16539      0.98005  42.05s\n",
      "     96       \u001b[36m0.06760\u001b[0m       0.06163      1.09672      0.97970  44.96s\n",
      "     97       0.06840       0.06074      1.12614      0.97970  48.83s\n",
      "     98       0.06826       0.06058      1.12689      0.98064  52.42s\n",
      "     99       \u001b[36m0.06742\u001b[0m       0.06059      1.11268      0.97982  49.51s\n",
      "    100       0.06848       0.06222      1.10056      0.97982  61.21s\n"
     ]
    }
   ],
   "source": [
    "cnn2 = CNN(100).fit(train_data, target)"
   ]
  },
  {
   "cell_type": "code",
   "execution_count": 24,
   "metadata": {
    "collapsed": true
   },
   "outputs": [],
   "source": [
    "pred = cnn2.predict(test_data)"
   ]
  },
  {
   "cell_type": "code",
   "execution_count": 25,
   "metadata": {
    "collapsed": true
   },
   "outputs": [],
   "source": [
    "np.savetxt('submission_conv_nn_2.csv', np.c_[range(1, len(test)+1), pred], delimiter=',', header='ImageId,Label', comments='', fmt=\"%d\")"
   ]
  },
  {
   "cell_type": "markdown",
   "metadata": {
    "collapsed": true
   },
   "source": [
    "## Limpeza dos dados"
   ]
  },
  {
   "cell_type": "code",
   "execution_count": 10,
   "metadata": {
    "collapsed": false
   },
   "outputs": [
    {
     "data": {
      "text/html": [
       "<div>\n",
       "<table border=\"1\" class=\"dataframe\">\n",
       "  <thead>\n",
       "    <tr style=\"text-align: right;\">\n",
       "      <th></th>\n",
       "      <th>label</th>\n",
       "      <th>pixel0</th>\n",
       "      <th>pixel1</th>\n",
       "      <th>pixel2</th>\n",
       "      <th>pixel3</th>\n",
       "      <th>pixel4</th>\n",
       "      <th>pixel5</th>\n",
       "      <th>pixel6</th>\n",
       "      <th>pixel7</th>\n",
       "      <th>pixel8</th>\n",
       "      <th>...</th>\n",
       "      <th>pixel774</th>\n",
       "      <th>pixel775</th>\n",
       "      <th>pixel776</th>\n",
       "      <th>pixel777</th>\n",
       "      <th>pixel778</th>\n",
       "      <th>pixel779</th>\n",
       "      <th>pixel780</th>\n",
       "      <th>pixel781</th>\n",
       "      <th>pixel782</th>\n",
       "      <th>pixel783</th>\n",
       "    </tr>\n",
       "  </thead>\n",
       "  <tbody>\n",
       "    <tr>\n",
       "      <th>0</th>\n",
       "      <td>1</td>\n",
       "      <td>0</td>\n",
       "      <td>0</td>\n",
       "      <td>0</td>\n",
       "      <td>0</td>\n",
       "      <td>0</td>\n",
       "      <td>0</td>\n",
       "      <td>0</td>\n",
       "      <td>0</td>\n",
       "      <td>0</td>\n",
       "      <td>...</td>\n",
       "      <td>0</td>\n",
       "      <td>0</td>\n",
       "      <td>0</td>\n",
       "      <td>0</td>\n",
       "      <td>0</td>\n",
       "      <td>0</td>\n",
       "      <td>0</td>\n",
       "      <td>0</td>\n",
       "      <td>0</td>\n",
       "      <td>0</td>\n",
       "    </tr>\n",
       "    <tr>\n",
       "      <th>1</th>\n",
       "      <td>0</td>\n",
       "      <td>0</td>\n",
       "      <td>0</td>\n",
       "      <td>0</td>\n",
       "      <td>0</td>\n",
       "      <td>0</td>\n",
       "      <td>0</td>\n",
       "      <td>0</td>\n",
       "      <td>0</td>\n",
       "      <td>0</td>\n",
       "      <td>...</td>\n",
       "      <td>0</td>\n",
       "      <td>0</td>\n",
       "      <td>0</td>\n",
       "      <td>0</td>\n",
       "      <td>0</td>\n",
       "      <td>0</td>\n",
       "      <td>0</td>\n",
       "      <td>0</td>\n",
       "      <td>0</td>\n",
       "      <td>0</td>\n",
       "    </tr>\n",
       "    <tr>\n",
       "      <th>2</th>\n",
       "      <td>1</td>\n",
       "      <td>0</td>\n",
       "      <td>0</td>\n",
       "      <td>0</td>\n",
       "      <td>0</td>\n",
       "      <td>0</td>\n",
       "      <td>0</td>\n",
       "      <td>0</td>\n",
       "      <td>0</td>\n",
       "      <td>0</td>\n",
       "      <td>...</td>\n",
       "      <td>0</td>\n",
       "      <td>0</td>\n",
       "      <td>0</td>\n",
       "      <td>0</td>\n",
       "      <td>0</td>\n",
       "      <td>0</td>\n",
       "      <td>0</td>\n",
       "      <td>0</td>\n",
       "      <td>0</td>\n",
       "      <td>0</td>\n",
       "    </tr>\n",
       "    <tr>\n",
       "      <th>3</th>\n",
       "      <td>4</td>\n",
       "      <td>0</td>\n",
       "      <td>0</td>\n",
       "      <td>0</td>\n",
       "      <td>0</td>\n",
       "      <td>0</td>\n",
       "      <td>0</td>\n",
       "      <td>0</td>\n",
       "      <td>0</td>\n",
       "      <td>0</td>\n",
       "      <td>...</td>\n",
       "      <td>0</td>\n",
       "      <td>0</td>\n",
       "      <td>0</td>\n",
       "      <td>0</td>\n",
       "      <td>0</td>\n",
       "      <td>0</td>\n",
       "      <td>0</td>\n",
       "      <td>0</td>\n",
       "      <td>0</td>\n",
       "      <td>0</td>\n",
       "    </tr>\n",
       "    <tr>\n",
       "      <th>4</th>\n",
       "      <td>0</td>\n",
       "      <td>0</td>\n",
       "      <td>0</td>\n",
       "      <td>0</td>\n",
       "      <td>0</td>\n",
       "      <td>0</td>\n",
       "      <td>0</td>\n",
       "      <td>0</td>\n",
       "      <td>0</td>\n",
       "      <td>0</td>\n",
       "      <td>...</td>\n",
       "      <td>0</td>\n",
       "      <td>0</td>\n",
       "      <td>0</td>\n",
       "      <td>0</td>\n",
       "      <td>0</td>\n",
       "      <td>0</td>\n",
       "      <td>0</td>\n",
       "      <td>0</td>\n",
       "      <td>0</td>\n",
       "      <td>0</td>\n",
       "    </tr>\n",
       "  </tbody>\n",
       "</table>\n",
       "<p>5 rows × 785 columns</p>\n",
       "</div>"
      ],
      "text/plain": [
       "   label  pixel0  pixel1  pixel2  pixel3  pixel4  pixel5  pixel6  pixel7  \\\n",
       "0      1       0       0       0       0       0       0       0       0   \n",
       "1      0       0       0       0       0       0       0       0       0   \n",
       "2      1       0       0       0       0       0       0       0       0   \n",
       "3      4       0       0       0       0       0       0       0       0   \n",
       "4      0       0       0       0       0       0       0       0       0   \n",
       "\n",
       "   pixel8    ...     pixel774  pixel775  pixel776  pixel777  pixel778  \\\n",
       "0       0    ...            0         0         0         0         0   \n",
       "1       0    ...            0         0         0         0         0   \n",
       "2       0    ...            0         0         0         0         0   \n",
       "3       0    ...            0         0         0         0         0   \n",
       "4       0    ...            0         0         0         0         0   \n",
       "\n",
       "   pixel779  pixel780  pixel781  pixel782  pixel783  \n",
       "0         0         0         0         0         0  \n",
       "1         0         0         0         0         0  \n",
       "2         0         0         0         0         0  \n",
       "3         0         0         0         0         0  \n",
       "4         0         0         0         0         0  \n",
       "\n",
       "[5 rows x 785 columns]"
      ]
     },
     "execution_count": 10,
     "metadata": {},
     "output_type": "execute_result"
    }
   ],
   "source": [
    "mnist_train.head()"
   ]
  },
  {
   "cell_type": "code",
   "execution_count": 55,
   "metadata": {
    "collapsed": false
   },
   "outputs": [],
   "source": [
    "mnist_train = mnist_train[mnist_train.columns[mnist_train.max()>0]]"
   ]
  },
  {
   "cell_type": "code",
   "execution_count": 58,
   "metadata": {
    "collapsed": true
   },
   "outputs": [],
   "source": [
    "target = mnist_train[[0]].values.ravel()\n",
    "train_data = mnist_train.iloc[:,1:].values\n",
    "test = pd.read_csv(\"test.csv\").values"
   ]
  },
  {
   "cell_type": "code",
   "execution_count": 82,
   "metadata": {
    "collapsed": false
   },
   "outputs": [
    {
     "data": {
      "text/plain": [
       "(42000, 708)"
      ]
     },
     "execution_count": 82,
     "metadata": {},
     "output_type": "execute_result"
    }
   ],
   "source": [
    "train_data.shape"
   ]
  },
  {
   "cell_type": "code",
   "execution_count": 60,
   "metadata": {
    "collapsed": false
   },
   "outputs": [
    {
     "data": {
      "text/plain": [
       "(28000, 784)"
      ]
     },
     "execution_count": 60,
     "metadata": {},
     "output_type": "execute_result"
    }
   ],
   "source": [
    "test.shape"
   ]
  },
  {
   "cell_type": "code",
   "execution_count": 65,
   "metadata": {
    "collapsed": true
   },
   "outputs": [],
   "source": [
    "test_data = pd.read_csv(\"test.csv\")"
   ]
  },
  {
   "cell_type": "code",
   "execution_count": 76,
   "metadata": {
    "collapsed": false
   },
   "outputs": [],
   "source": [
    "columns = list(mnist_train.columns)\n",
    "columns = columns[1:]\n",
    "test_data = test_data[columns]"
   ]
  },
  {
   "cell_type": "code",
   "execution_count": 78,
   "metadata": {
    "collapsed": false
   },
   "outputs": [],
   "source": [
    "test = test_data.values"
   ]
  },
  {
   "cell_type": "code",
   "execution_count": 81,
   "metadata": {
    "collapsed": false
   },
   "outputs": [
    {
     "data": {
      "text/plain": [
       "(28000, 708)"
      ]
     },
     "execution_count": 81,
     "metadata": {},
     "output_type": "execute_result"
    }
   ],
   "source": [
    "test.shape"
   ]
  },
  {
   "cell_type": "code",
   "execution_count": 102,
   "metadata": {
    "collapsed": true
   },
   "outputs": [],
   "source": [
    "test_data = test"
   ]
  },
  {
   "cell_type": "code",
   "execution_count": 104,
   "metadata": {
    "collapsed": false
   },
   "outputs": [
    {
     "data": {
      "text/plain": [
       "array([  0,   0,   0,   0,   0,   0,   0,   0,   0,   0,   0,   0,   0,\n",
       "         0,   0,   0,   0,   0,   0,   0,   0,   0,   0,   0,   0,   0,\n",
       "         0,   0,   0,   0,   0,   0,   0,   0,   0,   0,  44, 229, 254,\n",
       "       134,   0,   0,   0,   0,   0,   0,   0,   0,   0,   0,   0,   0,\n",
       "         0,   0,   0,   0,   0,   0,  11,  60, 116, 193,  96,  23,   0,\n",
       "         0,   0,   0,   0,   0,   0,   0,   0,   0,   0,   0,   0,   4,\n",
       "         6,   0,   0,   0,   0,   0, 142, 253, 149,   0,   0,   0,   0,\n",
       "         0,   0,   0,   0,   0,   0,   0,   0,   0,   0,   0,  32,  47,\n",
       "         0,   0,   0,   0,  43, 222, 253,  79,   0,   0,   0,   0,   0,\n",
       "         0,   0,   0,   0,   0,   0,   0,   0,   0,   0,   0,   0,   0,\n",
       "         0,   0,   0,   0,   0, 223, 253, 253,   0,   0,   0,   0,   0,\n",
       "         0,   0,   0,   0,   0,   0,   0,   0,   0,   0,   0,   0,   0,\n",
       "         0,   0,   0,   0,   0,  96, 249, 253, 146,   0,   0,   0,   0,\n",
       "         0,   0,   0,   0,   0,   0,   0,   0,   0,   0,   0,   0,   0,\n",
       "         0,   0,   0,   0,   0,   0,   0, 134, 253, 253, 104,   0,   0,\n",
       "         0,   0,   0,   0,   0,   0,   0,   0,   0,   0,   0,   0,   0,\n",
       "         0,   0,   0,   0,   0,   0,   0,   0,  11, 177, 253, 237,  67,\n",
       "         0,   0,   0,   0,   0,   0,   0,   0,   0,   0,   0,   0,   0,\n",
       "         0,   0,   0,   0,   0,   0,   0,   0,   0,   0,  30, 253, 253,\n",
       "        94,   0,   0,   0,   0,   0,   0,   0,   0,   0,   0,   0,   0,\n",
       "         0,   0,   0,   0,   0,   0,   0,   0,   0,   0,   0,   0, 119,\n",
       "       253, 253,  59,   0,   0,   0,   0,   0,   0,   0,   0,   0,   0,\n",
       "         0,   0,   0,   0,   0,   0,   0,   0,   0,   0,   0,   0,   0,\n",
       "         0, 181, 254, 254,  59,   0,   0,   0,   0,   0,   0,   0,   0,\n",
       "         0,   0,   0,   0,   0,   0,   0,   0,   0,   0,   0,   0,   0,\n",
       "         0,   0,   0, 179, 253, 253,  59,   0,   0,   0,   0,  29,  60,\n",
       "        60,  29,   0,   0,   0,   0,   0,   0,   0,   0,   0,   0,   0,\n",
       "         0,   0,   0,   0, 179, 253, 253,  59,   0,   0,   4, 113, 206,\n",
       "       253, 253, 206, 112,   4,   0,   0,   0,   0,   0,   0,   0,   0,\n",
       "         0,   0,   0,  36, 214, 253, 253,  59,   0,   0,  60, 253, 253,\n",
       "       253, 253, 253, 253,  59,   0,   0,   0,   0,   0,   0,   0,   0,\n",
       "         0,   0,   0,   0,  75, 253, 253, 253,  59,   0, 137, 231, 253,\n",
       "       217, 178, 231, 253, 253,  59,   0,   0,   0,   0,   0,   0,   0,\n",
       "         0,   0,   0,   0,   0,  22, 201, 253, 253, 109, 179, 254, 253,\n",
       "       225,  53, 163, 232, 253, 171,  17,   0,   0,   0,   0,   0,   0,\n",
       "         0,   0,   0,   0,   0,   0,   0,   0, 101, 253, 253, 253, 253,\n",
       "       254, 253, 176, 191, 253, 253, 181,   7,   0,   0,   0,   0,   0,\n",
       "         0,   0,   0,   0,   0,   0,   0,   0,   0,  20, 211, 253, 253,\n",
       "       253, 255, 253, 253, 253, 226,  57,   7,   0,   0,   0,   0,   0,\n",
       "         0,   0,   0,   0,   0,   0,   0,   0,   0,   0,   0,  32, 216,\n",
       "       253, 253, 254, 253, 250, 137,  42,   0,   0,   0,   0,   0,   0,\n",
       "         0,   0,   0,   0,   0,   0,   0,   0,   0,   0,   0,   0,   0,\n",
       "         0,  37, 218, 253, 105, 104,  98,   0,   0,   0,   0,   0,   0,\n",
       "         0,   0,   0,   0,   0,   0,   0,   0,   0,   0,   0,   0,   0,\n",
       "         0,   0,   0,   0,   0,   0,   0,   0,   0,   0,   0,   0,   0,\n",
       "         0,   0,   0,   0,   0,   0,   0,   0,   0,   0,   0,   0,   0,\n",
       "         0,   0,   0,   0,   0,   0,   0,   0,   0,   0,   0,   0,   0,\n",
       "         0,   0,   0,   0,   0,   0,   0,   0,   0,   0,   0,   0,   0,\n",
       "         0,   0,   0,   0,   0,   0,   0,   0,   0,   0,   0,   0,   0,\n",
       "         0,   0,   0,   0,   0,   0,   0,   0,   0,   0,   0,   0,   0,\n",
       "         0,   0,   0,   0,   0,   0,   0,   0,   0,   0,   0,   0,   0,\n",
       "         0,   0,   0,   0,   0,   0,   0,   0,   0,   0,   0,   0,   0,\n",
       "         0,   0,   0,   0,   0,   0,   0,   0,   0,   0,   0,   0,   0,\n",
       "         0,   0,   0,   0,   0,   0,   0,   0,   0,   0,   0,   0,   0,\n",
       "         0,   0,   0,   0,   0,   0])"
      ]
     },
     "execution_count": 104,
     "metadata": {},
     "output_type": "execute_result"
    }
   ],
   "source": [
    "test_data[300]"
   ]
  },
  {
   "cell_type": "code",
   "execution_count": 142,
   "metadata": {
    "collapsed": true
   },
   "outputs": [],
   "source": [
    "test_data = test_data/float(255)"
   ]
  },
  {
   "cell_type": "code",
   "execution_count": 143,
   "metadata": {
    "collapsed": false
   },
   "outputs": [],
   "source": [
    "train_data = train_data/float(255)"
   ]
  },
  {
   "cell_type": "code",
   "execution_count": null,
   "metadata": {
    "collapsed": true
   },
   "outputs": [],
   "source": []
  },
  {
   "cell_type": "code",
   "execution_count": null,
   "metadata": {
    "collapsed": true
   },
   "outputs": [],
   "source": []
  },
  {
   "cell_type": "code",
   "execution_count": null,
   "metadata": {
    "collapsed": true
   },
   "outputs": [],
   "source": []
  },
  {
   "cell_type": "code",
   "execution_count": 9,
   "metadata": {
    "collapsed": false
   },
   "outputs": [
    {
     "name": "stdout",
     "output_type": "stream",
     "text": [
      "Preparing the data...\n",
      "--------------------------------\n",
      "Loading the train dataset...\n",
      "Loading the test dataset...\n",
      "separate labels from training data\n",
      "creating PCA object...\n",
      "fitting the training data...\n",
      "calculating the amount of variance explained by components...\n",
      "amount of variance: 0.787153004634\n",
      "-------------------------------------------------\n",
      "About 79% of  the total variance in the dataset is explained by 40 components\n",
      "Extracting the features...\n",
      "Shape of training data after dimensionality reduction: (42000, 40)\n",
      "Transform the test data using existing parameters...\n",
      "test data shape: (28000, 40)\n"
     ]
    }
   ],
   "source": [
    "import numpy as np\n",
    "from sklearn.decomposition import PCA\n",
    "from sklearn.preprocessing import MinMaxScaler\n",
    "from sklearn.neighbors import KNeighborsClassifier\n",
    "from sklearn import cross_validation\n",
    "\n",
    "print \"Preparing the data...\"\n",
    "print \"--------------------------------\"\n",
    "print \"Loading the train dataset...\"\n",
    "train = np.loadtxt(\"train.csv\", delimiter=\",\", skiprows=1)\n",
    "print \"Loading the test dataset...\"\n",
    "test = np.loadtxt(\"test.csv\", delimiter=\",\", skiprows=1)\n",
    "\n",
    "print \"separate labels from training data\"\n",
    "train_data = train[:,1:]\n",
    "target = train[:,0]\n",
    "\n",
    "#number of components to extract\n",
    "print \"creating PCA object...\"\n",
    "pca = PCA(n_components=40)\n",
    "\n",
    "#fit the training data\n",
    "print \"fitting the training data...\"\n",
    "pca.fit(train_data)\n",
    "\n",
    "#determine the amount of variance explained by components\n",
    "print \"calculating the amount of variance explained by components...\"\n",
    "sum_variance_ratio = np.sum(pca.explained_variance_ratio_)\n",
    "print \"amount of variance: {0}\".format(sum_variance_ratio)\n",
    "print \"-------------------------------------------------\"\n",
    "print \"About 79% of  the total variance in the dataset is explained by 40 components\"\n",
    "\n",
    "\n",
    "print \"Extracting the features...\"\n",
    "train_ext = pca.fit_transform(train_data)\n",
    "print \"Shape of training data after dimensionality reduction: {0}\".format(train_ext.shape)\n",
    "\n",
    "print \"Transform the test data using existing parameters...\"\n",
    "test_ext = pca.transform(test)\n",
    "print \"test data shape: {0}\".format(test_ext.shape)"
   ]
  },
  {
   "cell_type": "code",
   "execution_count": 10,
   "metadata": {
    "collapsed": false
   },
   "outputs": [
    {
     "data": {
      "text/plain": [
       "(42000, 40)"
      ]
     },
     "execution_count": 10,
     "metadata": {},
     "output_type": "execute_result"
    }
   ],
   "source": [
    "train_ext.shape"
   ]
  },
  {
   "cell_type": "code",
   "execution_count": 12,
   "metadata": {
    "collapsed": true
   },
   "outputs": [],
   "source": [
    "target = target.astype(np.uint8)\n",
    "train_data = np.array(train_ext).reshape((-1,1,4,10)).astype(np.uint8)\n",
    "test_data = np.array(test_ext).reshape((-1,1,4,10)).astype(np.uint8)"
   ]
  },
  {
   "cell_type": "code",
   "execution_count": null,
   "metadata": {
    "collapsed": true
   },
   "outputs": [],
   "source": [
    "def CNN(n_epochs):\n",
    "    net1 = NeuralNet(\n",
    "        layers = [\n",
    "            ('input', layers.InputLayer),\n",
    "            ('conv1', layers.Conv2DLayer),      \n",
    "            ('pool1', layers.MaxPool2DLayer),   \n",
    "            ('conv2', layers.Conv2DLayer),\n",
    "            ('pool2', layers.MaxPool2DLayer),\n",
    "            ('drop1', layers.DropoutLayer),\n",
    "            ('hidden3', layers.DenseLayer),\n",
    "            ('output', layers.DenseLayer),\n",
    "        ],\n",
    "        \n",
    "    input_shape = (None,1,28,28),\n",
    "    conv1_num_filters=7,\n",
    "    conv1_filter_size=(3, 3), \n",
    "    conv1_nonlinearity=lasagne.nonlinearities.rectify,\n",
    "    \n",
    "    pool1_pool_size=(2, 2),\n",
    "    \n",
    "    conv2_num_filters=12, \n",
    "    conv2_filter_size=(2, 2),    \n",
    "    conv2_nonlinearity=lasagne.nonlinearities.rectify,\n",
    "    \n",
    "    pool2_pool_size=(2, 2),\n",
    "        \n",
    "    drop1_p = 0.2,\n",
    "        \n",
    "    hidden3_num_units=1000,\n",
    "    output_num_units=10, \n",
    "    output_nonlinearity=lasagne.nonlinearities.softmax,\n",
    "\n",
    "    update_learning_rate=0.0001,\n",
    "    update_momentum=0.9,\n",
    "\n",
    "    max_epochs=n_epochs,\n",
    "    verbose=1,\n",
    "    )\n",
    "    return net1"
   ]
  },
  {
   "cell_type": "code",
   "execution_count": null,
   "metadata": {
    "collapsed": true
   },
   "outputs": [],
   "source": [
    "train_data"
   ]
  }
 ],
 "metadata": {
  "kernelspec": {
   "display_name": "Python 2",
   "language": "python",
   "name": "python2"
  },
  "language_info": {
   "codemirror_mode": {
    "name": "ipython",
    "version": 2
   },
   "file_extension": ".py",
   "mimetype": "text/x-python",
   "name": "python",
   "nbconvert_exporter": "python",
   "pygments_lexer": "ipython2",
   "version": "2.7.10"
  }
 },
 "nbformat": 4,
 "nbformat_minor": 0
}
